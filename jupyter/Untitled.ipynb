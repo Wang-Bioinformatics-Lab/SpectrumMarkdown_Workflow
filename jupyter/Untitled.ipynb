{
 "cells": [
  {
   "cell_type": "code",
   "execution_count": 3,
   "id": "505f8fcc-1ea1-41fe-9899-7299cee222b7",
   "metadata": {},
   "outputs": [],
   "source": [
    "import markdown"
   ]
  },
  {
   "cell_type": "code",
   "execution_count": 9,
   "id": "888b0005-0e16-4055-a7ce-256f9ff6f4c5",
   "metadata": {},
   "outputs": [
    {
     "name": "stdout",
     "output_type": "stream",
     "text": [
      "Requirement already satisfied: markdown in /opt/conda/lib/python3.10/site-packages (3.4.1)\n",
      "Collecting tabulate\n",
      "  Downloading tabulate-0.9.0-py3-none-any.whl (35 kB)\n",
      "Installing collected packages: tabulate\n",
      "Successfully installed tabulate-0.9.0\n"
     ]
    }
   ],
   "source": [
    "! pip install markdown tabulate"
   ]
  },
  {
   "cell_type": "code",
   "execution_count": 4,
   "id": "27904339-6720-4c29-97b2-62eea28f3012",
   "metadata": {},
   "outputs": [
    {
     "data": {
      "text/plain": [
       "'<h1>Hi</h1>'"
      ]
     },
     "execution_count": 4,
     "metadata": {},
     "output_type": "execute_result"
    }
   ],
   "source": [
    "markdown.markdown('#Hi')"
   ]
  },
  {
   "cell_type": "code",
   "execution_count": 5,
   "id": "14b4171b-9923-435f-9daf-1426fb5e5af9",
   "metadata": {},
   "outputs": [],
   "source": [
    "import pandas as pd"
   ]
  },
  {
   "cell_type": "code",
   "execution_count": 24,
   "id": "53fcbdb1-8e2d-4c2a-8e78-f5f8a391f9ab",
   "metadata": {},
   "outputs": [],
   "source": [
    "df = pd.read_csv(\"../data/testusi.txt\", sep=\"\\t\")\n",
    "df[\"col\"] = 1\n",
    "df[\"link\"] = df[\"usi\"].apply(lambda x: \"[link]({})\".format(x))"
   ]
  },
  {
   "cell_type": "code",
   "execution_count": 25,
   "id": "f6c48ae0-19f2-4c64-b0e3-3feac85923e3",
   "metadata": {},
   "outputs": [
    {
     "data": {
      "text/plain": [
       "689"
      ]
     },
     "execution_count": 25,
     "metadata": {},
     "output_type": "execute_result"
    }
   ],
   "source": [
    "open('test.md', 'w').write(df.to_markdown(index=False))"
   ]
  },
  {
   "cell_type": "code",
   "execution_count": 26,
   "id": "40b5b25e-b669-47b8-aaca-467b0d5f470c",
   "metadata": {},
   "outputs": [
    {
     "data": {
      "text/plain": [
       "890"
      ]
     },
     "execution_count": 26,
     "metadata": {},
     "output_type": "execute_result"
    }
   ],
   "source": [
    "open(\"test.html\", \"w\").write(markdown.markdown(df.to_markdown(index=False), extensions=['tables']))"
   ]
  },
  {
   "cell_type": "code",
   "execution_count": null,
   "id": "9030e84b-eb3a-4bbf-ae52-3ba65145a24c",
   "metadata": {},
   "outputs": [],
   "source": []
  }
 ],
 "metadata": {
  "kernelspec": {
   "display_name": "Python 3 (ipykernel)",
   "language": "python",
   "name": "python3"
  },
  "language_info": {
   "codemirror_mode": {
    "name": "ipython",
    "version": 3
   },
   "file_extension": ".py",
   "mimetype": "text/x-python",
   "name": "python",
   "nbconvert_exporter": "python",
   "pygments_lexer": "ipython3",
   "version": "3.10.5"
  }
 },
 "nbformat": 4,
 "nbformat_minor": 5
}
